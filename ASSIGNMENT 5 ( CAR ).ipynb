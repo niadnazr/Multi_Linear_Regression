{
 "cells": [
  {
   "cell_type": "markdown",
   "id": "fee1a3de",
   "metadata": {},
   "source": [
    "Q1: Consider only the below columns and prepare a prediction model for predicting Price.\n",
    "\n",
    "Corolla<-Corolla[c(\"Price\",\"Age_08_04\",\"KM\",\"HP\",\"cc\",\"Doors\",\"Gears\",\"Quarterly_Tax\",\"Weight\")]\n",
    "\n",
    "Do transformations for getting better predictions of profit and make a table containing R^2 value for each prepared model."
   ]
  },
  {
   "cell_type": "code",
   "execution_count": null,
   "id": "fccb0d4d",
   "metadata": {},
   "outputs": [],
   "source": [
    "import pandas as pd\n",
    "import numpy as np\n",
    "from scipy import stats\n",
    "import seaborn as sns\n",
    "from statsmodels.graphics.regressionplots import influence_plot\n",
    "import statsmodels.formula.api as smf\n",
    "import matplotlib.pyplot as plt"
   ]
  },
  {
   "cell_type": "code",
   "execution_count": null,
   "id": "17619cd1",
   "metadata": {},
   "outputs": [],
   "source": [
    "toyota = pd.read_csv('/Users/nihadnazar/Desktop/ASSIGNMENTS/DATASETS/ToyotaCorolla.csv',encoding='latin1')\n",
    "toyota"
   ]
  },
  {
   "cell_type": "markdown",
   "id": "738e3c48",
   "metadata": {},
   "source": [
    "EDA"
   ]
  },
  {
   "cell_type": "code",
   "execution_count": null,
   "id": "1e772736",
   "metadata": {},
   "outputs": [],
   "source": [
    "print(toyota.info())"
   ]
  },
  {
   "cell_type": "code",
   "execution_count": null,
   "id": "5d8d2106",
   "metadata": {},
   "outputs": [],
   "source": [
    "toyota = toyota.rename({'Quarterly_Tax':'QT','Age_08_04':'AGE','Price':'PRICE','cc':'CC','Doors':'DOORS','Gears':'GEARS','Weight':'WEIGHT'},axis = 1)\n",
    "toyota[[\"PRICE\",\"AGE\",\"KM\",\"HP\",\"CC\",\"DOORS\",\"GEARS\",\"QT\",\"WEIGHT\"]]"
   ]
  },
  {
   "cell_type": "code",
   "execution_count": null,
   "id": "a4a5535e",
   "metadata": {},
   "outputs": [],
   "source": [
    "toyota[toyota.duplicated()]"
   ]
  },
  {
   "cell_type": "code",
   "execution_count": null,
   "id": "6da8ead1",
   "metadata": {},
   "outputs": [],
   "source": [
    "toyota=toyota.drop_duplicates().reset_index(drop=True)\n",
    "toyota[[\"PRICE\",\"AGE\",\"KM\",\"HP\",\"CC\",\"DOORS\",\"GEARS\",\"QT\",\"WEIGHT\"]]"
   ]
  },
  {
   "cell_type": "code",
   "execution_count": null,
   "id": "f2a17157",
   "metadata": {},
   "outputs": [],
   "source": [
    "toyota[[\"PRICE\",\"AGE\",\"KM\",\"HP\",\"CC\",\"DOORS\",\"GEARS\",\"QT\",\"WEIGHT\"]].describe"
   ]
  },
  {
   "cell_type": "markdown",
   "id": "025d7795",
   "metadata": {},
   "source": [
    "CORRELATION ANALYSIS"
   ]
  },
  {
   "cell_type": "code",
   "execution_count": null,
   "id": "0eeb384f",
   "metadata": {},
   "outputs": [],
   "source": [
    "toyota[[\"PRICE\",\"AGE\",\"KM\",\"HP\",\"CC\",\"DOORS\",\"GEARS\",\"QT\",\"WEIGHT\"]].corr()"
   ]
  },
  {
   "cell_type": "code",
   "execution_count": null,
   "id": "a801eac3",
   "metadata": {},
   "outputs": [],
   "source": [
    "sns.set_style(style = 'whitegrid')\n",
    "sns.pairplot(toyota[[\"PRICE\",\"AGE\",\"KM\",\"HP\",\"CC\",\"DOORS\",\"GEARS\",\"QT\",\"WEIGHT\"]])"
   ]
  },
  {
   "cell_type": "markdown",
   "id": "9ecfd5ca",
   "metadata": {},
   "source": [
    "MODEL BUILDING"
   ]
  },
  {
   "cell_type": "code",
   "execution_count": null,
   "id": "3ed32061",
   "metadata": {},
   "outputs": [],
   "source": [
    "model =smf.ols(\"PRICE ~ AGE+KM+HP+CC+DOORS+GEARS+QT+WEIGHT\",data = toyota).fit()"
   ]
  },
  {
   "cell_type": "markdown",
   "id": "81dd065b",
   "metadata": {},
   "source": [
    "MODEL TESTING"
   ]
  },
  {
   "cell_type": "code",
   "execution_count": null,
   "id": "e16c7512",
   "metadata": {},
   "outputs": [],
   "source": [
    "model.params"
   ]
  },
  {
   "cell_type": "code",
   "execution_count": null,
   "id": "d8c88cdc",
   "metadata": {},
   "outputs": [],
   "source": [
    "model.tvalues , np.round(model.pvalues,5)"
   ]
  },
  {
   "cell_type": "code",
   "execution_count": null,
   "id": "85b93cb2",
   "metadata": {},
   "outputs": [],
   "source": [
    "model.rsquared , model.rsquared_adj"
   ]
  },
  {
   "cell_type": "code",
   "execution_count": null,
   "id": "4ca23ba8",
   "metadata": {},
   "outputs": [],
   "source": [
    "#BUILDING SLR AND MLR MODEL FOR DOOR AND CC\n",
    "slr_cc = smf.ols(formula = 'PRICE ~ CC',data=toyota).fit()\n",
    "print('P VALUE OF CC: \\n',slr_cc.pvalues,'\\n\\nT VALUE OF CC: \\n',slr_cc.tvalues)"
   ]
  },
  {
   "cell_type": "code",
   "execution_count": null,
   "id": "43744aa8",
   "metadata": {},
   "outputs": [],
   "source": [
    "slr_d = smf.ols(formula = 'PRICE ~ DOORS',data = toyota).fit()\n",
    "print('P VALUE OF DOORS: \\n',slr_d.pvalues,'\\n\\nT VALUE OF DOORS: \\n',slr_d.tvalues)"
   ]
  },
  {
   "cell_type": "code",
   "execution_count": null,
   "id": "3144694b",
   "metadata": {},
   "outputs": [],
   "source": [
    "mlr_cc_d = smf.ols(formula = 'PRICE ~ CC+DOORS',data = toyota).fit()\n",
    "print('P VALUE OF CC AND DOORS: \\n',mlr_cc_d.pvalues,'\\n\\nT VALUE OF CC AND DOORS: \\n',mlr_cc_d.tvalues)"
   ]
  },
  {
   "cell_type": "markdown",
   "id": "e77a1a3c",
   "metadata": {},
   "source": [
    "AS WE CAN SEE,\n",
    "\n",
    "HERE THE CC AND DOORS HAVE A SIGNIFICANT P VALUE IN CASE OF SLR AND MLR."
   ]
  },
  {
   "cell_type": "markdown",
   "id": "9535d7e2",
   "metadata": {},
   "source": [
    "MODEL VALIDATION TECHNIQUES\n",
    "\n",
    "THERE ARE TWO TECHINQUES:\n",
    "\n",
    "    • COLINEARITY CHECK\n",
    "\n",
    "    • RESIDUAL ANALYSIS"
   ]
  },
  {
   "cell_type": "code",
   "execution_count": null,
   "id": "d6131644",
   "metadata": {},
   "outputs": [],
   "source": [
    "# COLINEARITY CHECKING\n",
    "# VIF = 1/(1 - RSQUARE) OF EACH INDEPENDENT VARIABLES\n",
    "\n",
    "rsq_age = smf.ols('AGE ~ KM+HP+CC+DOORS+GEARS+QT+WEIGHT',data = toyota).fit().rsquared\n",
    "vif_age = 1 / (1 - rsq_age)\n",
    "\n",
    "rsq_km = smf.ols('KM ~ AGE+HP+CC+DOORS+GEARS+QT+WEIGHT ',data = toyota).fit().rsquared\n",
    "vif_km = 1 / (1 - rsq_km)\n",
    "\n",
    "rsq_hp = smf.ols('HP ~ AGE+KM+CC+DOORS+GEARS+QT+WEIGHT ',data = toyota).fit().rsquared\n",
    "vif_hp = 1 / (1 - rsq_hp)\n",
    "\n",
    "rsq_cc = smf.ols('CC ~ AGE+KM+HP+DOORS+GEARS+QT+WEIGHT ',data = toyota).fit().rsquared\n",
    "vif_cc = 1 / (1 - rsq_cc)\n",
    "\n",
    "rsq_doors = smf.ols('DOORS ~ AGE+KM+HP+CC+GEARS+QT+WEIGHT ',data = toyota).fit().rsquared\n",
    "vif_doors = 1 / (1 - rsq_doors)\n",
    "\n",
    "rsq_gears = smf.ols('GEARS ~ AGE+KM+HP+CC+DOORS+QT+WEIGHT ',data = toyota).fit().rsquared\n",
    "vif_gears = 1 / (1 - rsq_gears)\n",
    "\n",
    "rsq_qt = smf.ols('QT ~ AGE+KM+HP+CC+DOORS+GEARS+WEIGHT ',data = toyota).fit().rsquared\n",
    "vif_qt = 1 / (1 - rsq_qt)\n",
    "\n",
    "rsq_weight = smf.ols('WEIGHT ~ AGE+KM+HP+CC+DOORS+GEARS+QT ',data = toyota).fit().rsquared\n",
    "vif_weight = 1 / (1 - rsq_weight)\n",
    "\n",
    "df = {'VARIABLES':[\"AGE\",\"KM\",\"HP\",\"CC\",\"DOORS\",\"GEARS\",\"QT\",\"WEIGHT\"],'VIF' : [vif_age,vif_km,vif_hp,vif_cc,vif_doors,vif_gears,vif_qt,vif_weight]}\n",
    "VIF_DF = pd.DataFrame(df)\n",
    "VIF_DF"
   ]
  },
  {
   "cell_type": "code",
   "execution_count": null,
   "id": "abb5eae1",
   "metadata": {},
   "outputs": [],
   "source": [
    "# so we can consider all the variables in the regression equation since there is no vif>20\n",
    "# 2. RESIDUAL ANALYSIS\n",
    "\n",
    "import statsmodels.api as sm\n",
    "sm.qqplot(model.resid,line = 'q') \n",
    "# 'q' - A line is fit through the quartiles # line = '45'- to draw the 45-degree diagonal line\n",
    "plt.title('NORMAL QQ-PLOT OF RESIDUALS')\n",
    "plt.show()"
   ]
  },
  {
   "cell_type": "code",
   "execution_count": null,
   "id": "2a3b64bc",
   "metadata": {},
   "outputs": [],
   "source": [
    "# To detect the residuals in qq-plot\n",
    "list(np.where(model.resid>6000))"
   ]
  },
  {
   "cell_type": "code",
   "execution_count": null,
   "id": "aab85cf1",
   "metadata": {},
   "outputs": [],
   "source": [
    "list(np.where(model.resid<-6000))"
   ]
  },
  {
   "cell_type": "code",
   "execution_count": null,
   "id": "b086a560",
   "metadata": {},
   "outputs": [],
   "source": [
    "#TEST FOR HOMOSCEDASTICITY OR HETEROSCEDASTICITY\n",
    "def standard_values(vals) : \n",
    "    return (vals - vals.mean())/vals.std() # z = (x - µ) / sigma"
   ]
  },
  {
   "cell_type": "code",
   "execution_count": null,
   "id": "fb625ce5",
   "metadata": {},
   "outputs": [],
   "source": [
    "plt.scatter(standard_values(model.fittedvalues),standard_values(model.resid))\n",
    "plt.title('RESIDUAL PLOTS')\n",
    "plt.xlabel('STANDARDIZED FITTED VALUES')\n",
    "plt.ylabel('STANDARDIZED RESIDUALS VALUES')\n",
    "plt.show()"
   ]
  },
  {
   "cell_type": "code",
   "execution_count": null,
   "id": "38392b0a",
   "metadata": {},
   "outputs": [],
   "source": [
    "# TEST FOR ERROR OR RESIDUAL VS REGRESSORS\n",
    "fig = plt.figure(figsize=(15,8))\n",
    "sm.graphics.plot_regress_exog(model,'AGE',fig=fig)\n",
    "plt.show()"
   ]
  },
  {
   "cell_type": "code",
   "execution_count": null,
   "id": "6c35c7e9",
   "metadata": {},
   "outputs": [],
   "source": [
    "fig = plt.figure(figsize=(15,8))\n",
    "sm.graphics.plot_regress_exog(model,'KM',fig=fig)\n",
    "plt.show()"
   ]
  },
  {
   "cell_type": "code",
   "execution_count": null,
   "id": "ac5515f9",
   "metadata": {},
   "outputs": [],
   "source": [
    "fig = plt.figure(figsize=(15,8))\n",
    "sm.graphics.plot_regress_exog(model,'HP',fig=fig)\n",
    "plt.show()"
   ]
  },
  {
   "cell_type": "code",
   "execution_count": null,
   "id": "31a8aeac",
   "metadata": {},
   "outputs": [],
   "source": [
    "fig = plt.figure(figsize=(15,8))\n",
    "sm.graphics.plot_regress_exog(model,'CC',fig=fig)\n",
    "plt.show()"
   ]
  },
  {
   "cell_type": "code",
   "execution_count": null,
   "id": "3984ebf1",
   "metadata": {},
   "outputs": [],
   "source": [
    "fig = plt.figure(figsize=(15,8))\n",
    "sm.graphics.plot_regress_exog(model,'DOORS',fig=fig)\n",
    "plt.show()\n"
   ]
  },
  {
   "cell_type": "code",
   "execution_count": null,
   "id": "545bfae2",
   "metadata": {},
   "outputs": [],
   "source": [
    "fig = plt.figure(figsize=(15,8))\n",
    "sm.graphics.plot_regress_exog(model,'GEARS',fig=fig)\n",
    "plt.show()"
   ]
  },
  {
   "cell_type": "code",
   "execution_count": null,
   "id": "5f3ab989",
   "metadata": {},
   "outputs": [],
   "source": [
    "fig = plt.figure(figsize=(15,8))\n",
    "sm.graphics.plot_regress_exog(model,'QT',fig=fig)\n",
    "plt.show()\n"
   ]
  },
  {
   "cell_type": "code",
   "execution_count": null,
   "id": "1bbe2ec9",
   "metadata": {},
   "outputs": [],
   "source": [
    "fig = plt.figure(figsize=(15,8))\n",
    "sm.graphics.plot_regress_exog(model,'WEIGHT',fig=fig)\n",
    "plt.show()"
   ]
  },
  {
   "cell_type": "markdown",
   "id": "8d2a1ef1",
   "metadata": {},
   "source": [
    "MODEL DELETION DIAGNOSTICS.\n",
    "\n",
    "THERE ARE TWO TECHNIQUES:\n",
    "    \n",
    "    • COOK'S DISTANCE\n",
    "    \n",
    "    • LEVERAGE VALUE"
   ]
  },
  {
   "cell_type": "code",
   "execution_count": null,
   "id": "187e40de",
   "metadata": {},
   "outputs": [],
   "source": [
    "#COOK'S DISTANCE\n",
    "model_influence = model.get_influence()\n",
    "(c,_) = model_influence.cooks_distance"
   ]
  },
  {
   "cell_type": "code",
   "execution_count": null,
   "id": "004bccea",
   "metadata": {},
   "outputs": [],
   "source": [
    "fig = plt.subplots(figsize=(20,7))\n",
    "plt.stem(np.arange(len(toyota)),np.round(c,3))\n",
    "plt.xlabel('ROW INDEX')\n",
    "plt.ylabel('COOKS DISTANCE')\n",
    "plt.show()"
   ]
  },
  {
   "cell_type": "code",
   "execution_count": null,
   "id": "e1df72b6",
   "metadata": {},
   "outputs": [],
   "source": [
    "(np.argmax(c),np.max(c))"
   ]
  },
  {
   "cell_type": "code",
   "execution_count": null,
   "id": "e9faaedc",
   "metadata": {},
   "outputs": [],
   "source": [
    "# 2. LEVERAGE VALUE\n",
    "fig,ax = plt.subplots(figsize=(20,20))\n",
    "fig = influence_plot(model,ax=ax)"
   ]
  },
  {
   "cell_type": "code",
   "execution_count": null,
   "id": "64c93f04",
   "metadata": {},
   "outputs": [],
   "source": [
    "# leverage cut-off value = 3 * (k+1)/n ; k = no. of features/columns and n = no. of datapoints\n",
    "k = toyota.shape[1]\n",
    "n = toyota.shape[0]\n",
    "leverage_cutoff = 3*(k+1)/n\n",
    "leverage_cutoff"
   ]
  },
  {
   "cell_type": "code",
   "execution_count": null,
   "id": "f268f20a",
   "metadata": {},
   "outputs": [],
   "source": [
    "toyota[toyota.index.isin([80])]"
   ]
  },
  {
   "cell_type": "code",
   "execution_count": null,
   "id": "5bd32d86",
   "metadata": {},
   "outputs": [],
   "source": [
    "new = toyota.copy()\n",
    "new"
   ]
  },
  {
   "cell_type": "code",
   "execution_count": 116,
   "id": "03d73449",
   "metadata": {},
   "outputs": [
    {
     "data": {
      "text/html": [
       "<div>\n",
       "<style scoped>\n",
       "    .dataframe tbody tr th:only-of-type {\n",
       "        vertical-align: middle;\n",
       "    }\n",
       "\n",
       "    .dataframe tbody tr th {\n",
       "        vertical-align: top;\n",
       "    }\n",
       "\n",
       "    .dataframe thead th {\n",
       "        text-align: right;\n",
       "    }\n",
       "</style>\n",
       "<table border=\"1\" class=\"dataframe\">\n",
       "  <thead>\n",
       "    <tr style=\"text-align: right;\">\n",
       "      <th></th>\n",
       "      <th>Id</th>\n",
       "      <th>Model</th>\n",
       "      <th>PRICE</th>\n",
       "      <th>AGE</th>\n",
       "      <th>Mfg_Month</th>\n",
       "      <th>Mfg_Year</th>\n",
       "      <th>KM</th>\n",
       "      <th>Fuel_Type</th>\n",
       "      <th>HP</th>\n",
       "      <th>Met_Color</th>\n",
       "      <th>...</th>\n",
       "      <th>Central_Lock</th>\n",
       "      <th>Powered_Windows</th>\n",
       "      <th>Power_Steering</th>\n",
       "      <th>Radio</th>\n",
       "      <th>Mistlamps</th>\n",
       "      <th>Sport_Model</th>\n",
       "      <th>Backseat_Divider</th>\n",
       "      <th>Metallic_Rim</th>\n",
       "      <th>Radio_cassette</th>\n",
       "      <th>Tow_Bar</th>\n",
       "    </tr>\n",
       "  </thead>\n",
       "  <tbody>\n",
       "    <tr>\n",
       "      <th>0</th>\n",
       "      <td>1</td>\n",
       "      <td>TOYOTA Corolla 2.0 D4D HATCHB TERRA 2/3-Doors</td>\n",
       "      <td>13500</td>\n",
       "      <td>23</td>\n",
       "      <td>10</td>\n",
       "      <td>2002</td>\n",
       "      <td>46986</td>\n",
       "      <td>Diesel</td>\n",
       "      <td>90</td>\n",
       "      <td>1</td>\n",
       "      <td>...</td>\n",
       "      <td>1</td>\n",
       "      <td>1</td>\n",
       "      <td>1</td>\n",
       "      <td>0</td>\n",
       "      <td>0</td>\n",
       "      <td>0</td>\n",
       "      <td>1</td>\n",
       "      <td>0</td>\n",
       "      <td>0</td>\n",
       "      <td>0</td>\n",
       "    </tr>\n",
       "    <tr>\n",
       "      <th>1</th>\n",
       "      <td>2</td>\n",
       "      <td>TOYOTA Corolla 2.0 D4D HATCHB TERRA 2/3-Doors</td>\n",
       "      <td>13750</td>\n",
       "      <td>23</td>\n",
       "      <td>10</td>\n",
       "      <td>2002</td>\n",
       "      <td>72937</td>\n",
       "      <td>Diesel</td>\n",
       "      <td>90</td>\n",
       "      <td>1</td>\n",
       "      <td>...</td>\n",
       "      <td>1</td>\n",
       "      <td>0</td>\n",
       "      <td>1</td>\n",
       "      <td>0</td>\n",
       "      <td>0</td>\n",
       "      <td>0</td>\n",
       "      <td>1</td>\n",
       "      <td>0</td>\n",
       "      <td>0</td>\n",
       "      <td>0</td>\n",
       "    </tr>\n",
       "    <tr>\n",
       "      <th>2</th>\n",
       "      <td>3</td>\n",
       "      <td>TOYOTA Corolla 2.0 D4D HATCHB TERRA 2/3-Doors</td>\n",
       "      <td>13950</td>\n",
       "      <td>24</td>\n",
       "      <td>9</td>\n",
       "      <td>2002</td>\n",
       "      <td>41711</td>\n",
       "      <td>Diesel</td>\n",
       "      <td>90</td>\n",
       "      <td>1</td>\n",
       "      <td>...</td>\n",
       "      <td>0</td>\n",
       "      <td>0</td>\n",
       "      <td>1</td>\n",
       "      <td>0</td>\n",
       "      <td>0</td>\n",
       "      <td>0</td>\n",
       "      <td>1</td>\n",
       "      <td>0</td>\n",
       "      <td>0</td>\n",
       "      <td>0</td>\n",
       "    </tr>\n",
       "    <tr>\n",
       "      <th>3</th>\n",
       "      <td>4</td>\n",
       "      <td>TOYOTA Corolla 2.0 D4D HATCHB TERRA 2/3-Doors</td>\n",
       "      <td>14950</td>\n",
       "      <td>26</td>\n",
       "      <td>7</td>\n",
       "      <td>2002</td>\n",
       "      <td>48000</td>\n",
       "      <td>Diesel</td>\n",
       "      <td>90</td>\n",
       "      <td>0</td>\n",
       "      <td>...</td>\n",
       "      <td>0</td>\n",
       "      <td>0</td>\n",
       "      <td>1</td>\n",
       "      <td>0</td>\n",
       "      <td>0</td>\n",
       "      <td>0</td>\n",
       "      <td>1</td>\n",
       "      <td>0</td>\n",
       "      <td>0</td>\n",
       "      <td>0</td>\n",
       "    </tr>\n",
       "    <tr>\n",
       "      <th>4</th>\n",
       "      <td>5</td>\n",
       "      <td>TOYOTA Corolla 2.0 D4D HATCHB SOL 2/3-Doors</td>\n",
       "      <td>13750</td>\n",
       "      <td>30</td>\n",
       "      <td>3</td>\n",
       "      <td>2002</td>\n",
       "      <td>38500</td>\n",
       "      <td>Diesel</td>\n",
       "      <td>90</td>\n",
       "      <td>0</td>\n",
       "      <td>...</td>\n",
       "      <td>1</td>\n",
       "      <td>1</td>\n",
       "      <td>1</td>\n",
       "      <td>0</td>\n",
       "      <td>1</td>\n",
       "      <td>0</td>\n",
       "      <td>1</td>\n",
       "      <td>0</td>\n",
       "      <td>0</td>\n",
       "      <td>0</td>\n",
       "    </tr>\n",
       "    <tr>\n",
       "      <th>...</th>\n",
       "      <td>...</td>\n",
       "      <td>...</td>\n",
       "      <td>...</td>\n",
       "      <td>...</td>\n",
       "      <td>...</td>\n",
       "      <td>...</td>\n",
       "      <td>...</td>\n",
       "      <td>...</td>\n",
       "      <td>...</td>\n",
       "      <td>...</td>\n",
       "      <td>...</td>\n",
       "      <td>...</td>\n",
       "      <td>...</td>\n",
       "      <td>...</td>\n",
       "      <td>...</td>\n",
       "      <td>...</td>\n",
       "      <td>...</td>\n",
       "      <td>...</td>\n",
       "      <td>...</td>\n",
       "      <td>...</td>\n",
       "      <td>...</td>\n",
       "    </tr>\n",
       "    <tr>\n",
       "      <th>1430</th>\n",
       "      <td>1438</td>\n",
       "      <td>TOYOTA Corolla 1.3 16V HATCHB G6 2/3-Doors</td>\n",
       "      <td>7500</td>\n",
       "      <td>69</td>\n",
       "      <td>12</td>\n",
       "      <td>1998</td>\n",
       "      <td>20544</td>\n",
       "      <td>Petrol</td>\n",
       "      <td>86</td>\n",
       "      <td>1</td>\n",
       "      <td>...</td>\n",
       "      <td>1</td>\n",
       "      <td>1</td>\n",
       "      <td>1</td>\n",
       "      <td>0</td>\n",
       "      <td>1</td>\n",
       "      <td>1</td>\n",
       "      <td>1</td>\n",
       "      <td>0</td>\n",
       "      <td>0</td>\n",
       "      <td>0</td>\n",
       "    </tr>\n",
       "    <tr>\n",
       "      <th>1431</th>\n",
       "      <td>1439</td>\n",
       "      <td>TOYOTA Corolla 1.3 16V HATCHB LINEA TERRA 2/3-...</td>\n",
       "      <td>10845</td>\n",
       "      <td>72</td>\n",
       "      <td>9</td>\n",
       "      <td>1998</td>\n",
       "      <td>19000</td>\n",
       "      <td>Petrol</td>\n",
       "      <td>86</td>\n",
       "      <td>0</td>\n",
       "      <td>...</td>\n",
       "      <td>0</td>\n",
       "      <td>0</td>\n",
       "      <td>1</td>\n",
       "      <td>0</td>\n",
       "      <td>0</td>\n",
       "      <td>1</td>\n",
       "      <td>1</td>\n",
       "      <td>0</td>\n",
       "      <td>0</td>\n",
       "      <td>0</td>\n",
       "    </tr>\n",
       "    <tr>\n",
       "      <th>1432</th>\n",
       "      <td>1440</td>\n",
       "      <td>TOYOTA Corolla 1.3 16V HATCHB LINEA TERRA 2/3-...</td>\n",
       "      <td>8500</td>\n",
       "      <td>71</td>\n",
       "      <td>10</td>\n",
       "      <td>1998</td>\n",
       "      <td>17016</td>\n",
       "      <td>Petrol</td>\n",
       "      <td>86</td>\n",
       "      <td>0</td>\n",
       "      <td>...</td>\n",
       "      <td>0</td>\n",
       "      <td>0</td>\n",
       "      <td>1</td>\n",
       "      <td>0</td>\n",
       "      <td>0</td>\n",
       "      <td>0</td>\n",
       "      <td>1</td>\n",
       "      <td>0</td>\n",
       "      <td>0</td>\n",
       "      <td>0</td>\n",
       "    </tr>\n",
       "    <tr>\n",
       "      <th>1433</th>\n",
       "      <td>1441</td>\n",
       "      <td>TOYOTA Corolla 1.3 16V HATCHB LINEA TERRA 2/3-...</td>\n",
       "      <td>7250</td>\n",
       "      <td>70</td>\n",
       "      <td>11</td>\n",
       "      <td>1998</td>\n",
       "      <td>16916</td>\n",
       "      <td>Petrol</td>\n",
       "      <td>86</td>\n",
       "      <td>1</td>\n",
       "      <td>...</td>\n",
       "      <td>0</td>\n",
       "      <td>0</td>\n",
       "      <td>0</td>\n",
       "      <td>0</td>\n",
       "      <td>0</td>\n",
       "      <td>0</td>\n",
       "      <td>1</td>\n",
       "      <td>0</td>\n",
       "      <td>0</td>\n",
       "      <td>0</td>\n",
       "    </tr>\n",
       "    <tr>\n",
       "      <th>1434</th>\n",
       "      <td>1442</td>\n",
       "      <td>TOYOTA Corolla 1.6 LB LINEA TERRA 4/5-Doors</td>\n",
       "      <td>6950</td>\n",
       "      <td>76</td>\n",
       "      <td>5</td>\n",
       "      <td>1998</td>\n",
       "      <td>1</td>\n",
       "      <td>Petrol</td>\n",
       "      <td>110</td>\n",
       "      <td>0</td>\n",
       "      <td>...</td>\n",
       "      <td>0</td>\n",
       "      <td>0</td>\n",
       "      <td>1</td>\n",
       "      <td>0</td>\n",
       "      <td>0</td>\n",
       "      <td>0</td>\n",
       "      <td>0</td>\n",
       "      <td>0</td>\n",
       "      <td>0</td>\n",
       "      <td>0</td>\n",
       "    </tr>\n",
       "  </tbody>\n",
       "</table>\n",
       "<p>1435 rows × 38 columns</p>\n",
       "</div>"
      ],
      "text/plain": [
       "        Id                                              Model  PRICE  AGE  \\\n",
       "0        1      TOYOTA Corolla 2.0 D4D HATCHB TERRA 2/3-Doors  13500   23   \n",
       "1        2      TOYOTA Corolla 2.0 D4D HATCHB TERRA 2/3-Doors  13750   23   \n",
       "2        3      TOYOTA Corolla 2.0 D4D HATCHB TERRA 2/3-Doors  13950   24   \n",
       "3        4      TOYOTA Corolla 2.0 D4D HATCHB TERRA 2/3-Doors  14950   26   \n",
       "4        5        TOYOTA Corolla 2.0 D4D HATCHB SOL 2/3-Doors  13750   30   \n",
       "...    ...                                                ...    ...  ...   \n",
       "1430  1438         TOYOTA Corolla 1.3 16V HATCHB G6 2/3-Doors   7500   69   \n",
       "1431  1439  TOYOTA Corolla 1.3 16V HATCHB LINEA TERRA 2/3-...  10845   72   \n",
       "1432  1440  TOYOTA Corolla 1.3 16V HATCHB LINEA TERRA 2/3-...   8500   71   \n",
       "1433  1441  TOYOTA Corolla 1.3 16V HATCHB LINEA TERRA 2/3-...   7250   70   \n",
       "1434  1442        TOYOTA Corolla 1.6 LB LINEA TERRA 4/5-Doors   6950   76   \n",
       "\n",
       "      Mfg_Month  Mfg_Year     KM Fuel_Type   HP  Met_Color  ... Central_Lock  \\\n",
       "0            10      2002  46986    Diesel   90          1  ...            1   \n",
       "1            10      2002  72937    Diesel   90          1  ...            1   \n",
       "2             9      2002  41711    Diesel   90          1  ...            0   \n",
       "3             7      2002  48000    Diesel   90          0  ...            0   \n",
       "4             3      2002  38500    Diesel   90          0  ...            1   \n",
       "...         ...       ...    ...       ...  ...        ...  ...          ...   \n",
       "1430         12      1998  20544    Petrol   86          1  ...            1   \n",
       "1431          9      1998  19000    Petrol   86          0  ...            0   \n",
       "1432         10      1998  17016    Petrol   86          0  ...            0   \n",
       "1433         11      1998  16916    Petrol   86          1  ...            0   \n",
       "1434          5      1998      1    Petrol  110          0  ...            0   \n",
       "\n",
       "      Powered_Windows  Power_Steering  Radio  Mistlamps  Sport_Model  \\\n",
       "0                   1               1      0          0            0   \n",
       "1                   0               1      0          0            0   \n",
       "2                   0               1      0          0            0   \n",
       "3                   0               1      0          0            0   \n",
       "4                   1               1      0          1            0   \n",
       "...               ...             ...    ...        ...          ...   \n",
       "1430                1               1      0          1            1   \n",
       "1431                0               1      0          0            1   \n",
       "1432                0               1      0          0            0   \n",
       "1433                0               0      0          0            0   \n",
       "1434                0               1      0          0            0   \n",
       "\n",
       "      Backseat_Divider  Metallic_Rim  Radio_cassette  Tow_Bar  \n",
       "0                    1             0               0        0  \n",
       "1                    1             0               0        0  \n",
       "2                    1             0               0        0  \n",
       "3                    1             0               0        0  \n",
       "4                    1             0               0        0  \n",
       "...                ...           ...             ...      ...  \n",
       "1430                 1             0               0        0  \n",
       "1431                 1             0               0        0  \n",
       "1432                 1             0               0        0  \n",
       "1433                 1             0               0        0  \n",
       "1434                 0             0               0        0  \n",
       "\n",
       "[1435 rows x 38 columns]"
      ]
     },
     "execution_count": 116,
     "metadata": {},
     "output_type": "execute_result"
    }
   ],
   "source": [
    "toyota_1 = new.drop(new.index[[50]],axis = 0).reset_index(drop = True)\n",
    "toyota_1"
   ]
  },
  {
   "cell_type": "code",
   "execution_count": 119,
   "id": "d07dacc2",
   "metadata": {},
   "outputs": [
    {
     "data": {
      "text/plain": [
       "0.8637627463428192"
      ]
     },
     "execution_count": 119,
     "metadata": {},
     "output_type": "execute_result"
    }
   ],
   "source": [
    "final_model = smf.ols('PRICE~AGE+KM+HP+CC+DOORS+GEARS+QT+WEIGHT',data = toyota).fit()\n",
    "final_model.rsquared"
   ]
  },
  {
   "cell_type": "code",
   "execution_count": null,
   "id": "13988528",
   "metadata": {},
   "outputs": [],
   "source": [
    "toyota_1"
   ]
  },
  {
   "cell_type": "markdown",
   "id": "62a1ded6",
   "metadata": {},
   "source": [
    "MODEL PREDICTIONS"
   ]
  },
  {
   "cell_type": "code",
   "execution_count": 118,
   "id": "e37e2f2e",
   "metadata": {},
   "outputs": [
    {
     "data": {
      "text/html": [
       "<div>\n",
       "<style scoped>\n",
       "    .dataframe tbody tr th:only-of-type {\n",
       "        vertical-align: middle;\n",
       "    }\n",
       "\n",
       "    .dataframe tbody tr th {\n",
       "        vertical-align: top;\n",
       "    }\n",
       "\n",
       "    .dataframe thead th {\n",
       "        text-align: right;\n",
       "    }\n",
       "</style>\n",
       "<table border=\"1\" class=\"dataframe\">\n",
       "  <thead>\n",
       "    <tr style=\"text-align: right;\">\n",
       "      <th></th>\n",
       "      <th>AGE</th>\n",
       "      <th>KM</th>\n",
       "      <th>HP</th>\n",
       "      <th>CC</th>\n",
       "      <th>DOORS</th>\n",
       "      <th>GEARS</th>\n",
       "      <th>QT</th>\n",
       "      <th>WEIGHT</th>\n",
       "    </tr>\n",
       "  </thead>\n",
       "  <tbody>\n",
       "    <tr>\n",
       "      <th>0</th>\n",
       "      <td>10</td>\n",
       "      <td>38000</td>\n",
       "      <td>80</td>\n",
       "      <td>1300</td>\n",
       "      <td>4</td>\n",
       "      <td>5</td>\n",
       "      <td>70</td>\n",
       "      <td>1000</td>\n",
       "    </tr>\n",
       "  </tbody>\n",
       "</table>\n",
       "</div>"
      ],
      "text/plain": [
       "   AGE     KM  HP    CC  DOORS  GEARS  QT  WEIGHT\n",
       "0   10  38000  80  1300      4      5  70    1000"
      ]
     },
     "execution_count": 118,
     "metadata": {},
     "output_type": "execute_result"
    }
   ],
   "source": [
    "new_data = pd.DataFrame({'AGE':10,'KM':38000,'HP':80,'CC':1300,'DOORS':4,'GEARS':5,'QT':70,'WEIGHT':1000},index=[0])\n",
    "new_data"
   ]
  },
  {
   "cell_type": "code",
   "execution_count": 120,
   "id": "1d5eabec",
   "metadata": {},
   "outputs": [
    {
     "data": {
      "text/plain": [
       "0    14996.501402\n",
       "dtype: float64"
      ]
     },
     "execution_count": 120,
     "metadata": {},
     "output_type": "execute_result"
    }
   ],
   "source": [
    "final_model.predict(new_data)"
   ]
  },
  {
   "cell_type": "code",
   "execution_count": 121,
   "id": "288e76ca",
   "metadata": {},
   "outputs": [
    {
     "data": {
      "text/plain": [
       "0     16812.580505\n",
       "1     16272.355186\n",
       "2     16800.732460\n",
       "3     16426.496731\n",
       "4     16222.419010\n",
       "          ...     \n",
       "75    15883.099082\n",
       "76    16152.345250\n",
       "77    15928.055303\n",
       "78    15345.941875\n",
       "79    15885.600444\n",
       "Length: 80, dtype: float64"
      ]
     },
     "execution_count": 121,
     "metadata": {},
     "output_type": "execute_result"
    }
   ],
   "source": [
    "prediction = final_model.predict(toyota_1)\n",
    "prediction"
   ]
  }
 ],
 "metadata": {
  "kernelspec": {
   "display_name": "Python 3 (ipykernel)",
   "language": "python",
   "name": "python3"
  },
  "language_info": {
   "codemirror_mode": {
    "name": "ipython",
    "version": 3
   },
   "file_extension": ".py",
   "mimetype": "text/x-python",
   "name": "python",
   "nbconvert_exporter": "python",
   "pygments_lexer": "ipython3",
   "version": "3.9.12"
  }
 },
 "nbformat": 4,
 "nbformat_minor": 5
}
